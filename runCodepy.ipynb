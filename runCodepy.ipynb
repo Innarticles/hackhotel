{
 "metadata": {
  "name": "",
  "signature": "sha256:f97731c68415385756a6e9eebc663c5ea6a1afe47e2bccb3d89a45bd03f7dbc3"
 },
 "nbformat": 3,
 "nbformat_minor": 0,
 "worksheets": [
  {
   "cells": [
    {
     "cell_type": "code",
     "collapsed": false,
     "input": [
      "def runHotel(trainingdata, testingData,):\n",
      "\n",
      "    import pandas as pd\n",
      "    import numpy as np\n",
      "    df = pd.read_csv(trainingdata)\n",
      "    dfT = pd.read_csv(testingData)\n",
      "    features_all = df[['time','is_phone_booking','number_of_rooms', 'client_title']]\n",
      "    #data for main test data\n",
      "    features_all_mainData = dfT[['time','is_phone_booking','number_of_rooms', 'client_title']]\n",
      "    m = target_all_for_mainTest = dfT[['cancelled']]\n",
      "    #get all outcomes from trainig data\n",
      "    target_all = df[['cancelled']]\n",
      " \n",
      "    #convert timestap to day of the week Mon = 0, Tues = 1 etc\n",
      "    features_all['time'] = features_all['time'].astype('datetime64[ns]').dt.dayofweek\n",
      "    features_all_mainData['time'] = features_all_mainData['time'].astype('datetime64[ns]').dt.dayofweek\n",
      "    #features_all['hotel_state'] = features_all['hotel_state'].map({'Abia':1, 'Abuja':2, 'Adamawa':3})\n",
      "    #features_all['hotel_state'] = features_all['hotel_state'].map({'Abia':1,'Abuja':2,'Adamawa':3,'AkwaIbom':4,'Anambra':5,'Bauchi':6,'Bayelsa':7,'Benue':8,'Borno':9,'Cross River':10,'Delta':11,'Ebonyi':12,'Edo':13,'Ekiti':14,'Enugu':15,'Gombe':16,'Imo':17,'Jigawa':18,'Kaduna':19,'Kano':20,'Katsina':21,'Kebbi':22,'Kogi':23,'Kwara':24,'Lagos':25,'Nassarawa':26,'Niger':27,'Ogun':28,'Ondo':29,'Osun':30,'Oyo':31,'Plateau':32,'Rivers':33,'Sokoto':34,'Taraba':35,'Yobe':36,'Zamfara':37features_all['hotel_state'] = features_all['hotel_state'].map({'Abia':1,'Abuja':2'Adamawa':3,'AkwaIbom':4,'Anambra':5,'Bauchi':6,'Bayelsa':7,'Benue':8,'Borno':9,'Cross River':10,'Delta':11,'Ebonyi':12,'Edo':13,'Ekiti':14,'Enugu':15,'Gombe':16,'Imo':17,'Jigawa':18,'Kaduna':19,'Kano':20,'Katsina':21,'Kebbi':22,'Kogi':23,'Kwara':24,'Lagos':25,'Nassarawa':26,'Niger':27,'Ogun':28,'Ondo':29,'Osun':30,'Oyo':31,'Plateau':32,'Rivers':33,'Sokoto':34,'Taraba':35,'Yobe':36,'Zamfara':37})\n",
      "    #\n",
      "    \n",
      "    #split the outcomes into 4000 for train and 1000 for test\n",
      "    target_train = target_all[:-1000]\n",
      "    target_test = target_all[-1000:]\n",
      "    #split the features into 4000 for train and 1000 for test\n",
      "    features_train = features_all[:-1000]\n",
      "    features_test = features_all[-1000:]\n",
      "    \n",
      "    #the learnig model used\n",
      "    from sklearn import svm, linear_model\n",
      "    clf = svm.SVC(kernel='rbf')\n",
      "    clf.fit(features_train, target_train)\n",
      "    \n",
      "    #predict the first xxx data from the main dataset\n",
      "    a = clf.predict(features_all_mainData[:])\n",
      "    \n",
      "    b = pd.DataFrame(a)\n",
      "    #save it to a file called result. You can open it using excel\n",
      "    b.to_csv('result.csv', sep=',', encoding='utf-8')\n",
      "    target_test[-1000:].to_csv('real1000.csv', sep=',', encoding='utf-8')\n",
      "    b.columns = ['cancelled']\n",
      "    df = b[:] == m[:]\n",
      "    predicted_count_of_cancelled = b.loc[df['cancelled'] != True]\n",
      "    actual_count_of_cancelled = m.loc[m['cancelled'] == True]\n",
      "    s = \"Acual cancelled = \"\n",
      "    z = \"predicted cancelled outcome = \"\n",
      "    \n",
      "    return  s + str(len(actual_count_of_cancelled.index)) + \" and \" + z + str(len(predicted_count_of_cancelled.index))\n",
      "\n",
      "\n",
      "runHotel('hotel_all.ipynb', 'hotel_all.ipynb' )\n"
     ],
     "language": "python",
     "metadata": {},
     "outputs": [
      {
       "output_type": "stream",
       "stream": "stderr",
       "text": [
        "/home/innarticles/anaconda/lib/python2.7/site-packages/sklearn/svm/base.py:441: DataConversionWarning: A column-vector y was passed when a 1d array was expected. Please change the shape of y to (n_samples, ), for example using ravel().\n",
        "  y_ = column_or_1d(y, warn=True)\n"
       ]
      },
      {
       "metadata": {},
       "output_type": "pyout",
       "prompt_number": 26,
       "text": [
        "'Acual cancelled = 468 and predicted cancelled outcome = 468'"
       ]
      }
     ],
     "prompt_number": 26
    },
    {
     "cell_type": "code",
     "collapsed": false,
     "input": [],
     "language": "python",
     "metadata": {},
     "outputs": [],
     "prompt_number": 43
    },
    {
     "cell_type": "code",
     "collapsed": false,
     "input": [],
     "language": "python",
     "metadata": {},
     "outputs": []
    }
   ],
   "metadata": {}
  }
 ]
}